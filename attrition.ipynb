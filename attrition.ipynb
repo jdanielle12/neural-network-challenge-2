{
  "cells": [
    {
      "cell_type": "markdown",
      "metadata": {
        "id": "alIIEHibGc3M"
      },
      "source": [
        "## Part 1: Preprocessing"
      ]
    },
    {
      "cell_type": "code",
      "execution_count": 15,
      "metadata": {
        "colab": {
          "base_uri": "https://localhost:8080/",
          "height": 325
        },
        "id": "6eDUJ4NtGc3P",
        "outputId": "2480098c-135c-4cbf-9552-018494ee8ff5"
      },
      "outputs": [
        {
          "data": {
            "text/html": [
              "<div>\n",
              "<style scoped>\n",
              "    .dataframe tbody tr th:only-of-type {\n",
              "        vertical-align: middle;\n",
              "    }\n",
              "\n",
              "    .dataframe tbody tr th {\n",
              "        vertical-align: top;\n",
              "    }\n",
              "\n",
              "    .dataframe thead th {\n",
              "        text-align: right;\n",
              "    }\n",
              "</style>\n",
              "<table border=\"1\" class=\"dataframe\">\n",
              "  <thead>\n",
              "    <tr style=\"text-align: right;\">\n",
              "      <th></th>\n",
              "      <th>Age</th>\n",
              "      <th>Attrition</th>\n",
              "      <th>BusinessTravel</th>\n",
              "      <th>Department</th>\n",
              "      <th>DistanceFromHome</th>\n",
              "      <th>Education</th>\n",
              "      <th>EducationField</th>\n",
              "      <th>EnvironmentSatisfaction</th>\n",
              "      <th>HourlyRate</th>\n",
              "      <th>JobInvolvement</th>\n",
              "      <th>...</th>\n",
              "      <th>PerformanceRating</th>\n",
              "      <th>RelationshipSatisfaction</th>\n",
              "      <th>StockOptionLevel</th>\n",
              "      <th>TotalWorkingYears</th>\n",
              "      <th>TrainingTimesLastYear</th>\n",
              "      <th>WorkLifeBalance</th>\n",
              "      <th>YearsAtCompany</th>\n",
              "      <th>YearsInCurrentRole</th>\n",
              "      <th>YearsSinceLastPromotion</th>\n",
              "      <th>YearsWithCurrManager</th>\n",
              "    </tr>\n",
              "  </thead>\n",
              "  <tbody>\n",
              "    <tr>\n",
              "      <th>0</th>\n",
              "      <td>41</td>\n",
              "      <td>Yes</td>\n",
              "      <td>Travel_Rarely</td>\n",
              "      <td>Sales</td>\n",
              "      <td>1</td>\n",
              "      <td>2</td>\n",
              "      <td>Life Sciences</td>\n",
              "      <td>2</td>\n",
              "      <td>94</td>\n",
              "      <td>3</td>\n",
              "      <td>...</td>\n",
              "      <td>3</td>\n",
              "      <td>1</td>\n",
              "      <td>0</td>\n",
              "      <td>8</td>\n",
              "      <td>0</td>\n",
              "      <td>1</td>\n",
              "      <td>6</td>\n",
              "      <td>4</td>\n",
              "      <td>0</td>\n",
              "      <td>5</td>\n",
              "    </tr>\n",
              "    <tr>\n",
              "      <th>1</th>\n",
              "      <td>49</td>\n",
              "      <td>No</td>\n",
              "      <td>Travel_Frequently</td>\n",
              "      <td>Research &amp; Development</td>\n",
              "      <td>8</td>\n",
              "      <td>1</td>\n",
              "      <td>Life Sciences</td>\n",
              "      <td>3</td>\n",
              "      <td>61</td>\n",
              "      <td>2</td>\n",
              "      <td>...</td>\n",
              "      <td>4</td>\n",
              "      <td>4</td>\n",
              "      <td>1</td>\n",
              "      <td>10</td>\n",
              "      <td>3</td>\n",
              "      <td>3</td>\n",
              "      <td>10</td>\n",
              "      <td>7</td>\n",
              "      <td>1</td>\n",
              "      <td>7</td>\n",
              "    </tr>\n",
              "    <tr>\n",
              "      <th>2</th>\n",
              "      <td>37</td>\n",
              "      <td>Yes</td>\n",
              "      <td>Travel_Rarely</td>\n",
              "      <td>Research &amp; Development</td>\n",
              "      <td>2</td>\n",
              "      <td>2</td>\n",
              "      <td>Other</td>\n",
              "      <td>4</td>\n",
              "      <td>92</td>\n",
              "      <td>2</td>\n",
              "      <td>...</td>\n",
              "      <td>3</td>\n",
              "      <td>2</td>\n",
              "      <td>0</td>\n",
              "      <td>7</td>\n",
              "      <td>3</td>\n",
              "      <td>3</td>\n",
              "      <td>0</td>\n",
              "      <td>0</td>\n",
              "      <td>0</td>\n",
              "      <td>0</td>\n",
              "    </tr>\n",
              "    <tr>\n",
              "      <th>3</th>\n",
              "      <td>33</td>\n",
              "      <td>No</td>\n",
              "      <td>Travel_Frequently</td>\n",
              "      <td>Research &amp; Development</td>\n",
              "      <td>3</td>\n",
              "      <td>4</td>\n",
              "      <td>Life Sciences</td>\n",
              "      <td>4</td>\n",
              "      <td>56</td>\n",
              "      <td>3</td>\n",
              "      <td>...</td>\n",
              "      <td>3</td>\n",
              "      <td>3</td>\n",
              "      <td>0</td>\n",
              "      <td>8</td>\n",
              "      <td>3</td>\n",
              "      <td>3</td>\n",
              "      <td>8</td>\n",
              "      <td>7</td>\n",
              "      <td>3</td>\n",
              "      <td>0</td>\n",
              "    </tr>\n",
              "    <tr>\n",
              "      <th>4</th>\n",
              "      <td>27</td>\n",
              "      <td>No</td>\n",
              "      <td>Travel_Rarely</td>\n",
              "      <td>Research &amp; Development</td>\n",
              "      <td>2</td>\n",
              "      <td>1</td>\n",
              "      <td>Medical</td>\n",
              "      <td>1</td>\n",
              "      <td>40</td>\n",
              "      <td>3</td>\n",
              "      <td>...</td>\n",
              "      <td>3</td>\n",
              "      <td>4</td>\n",
              "      <td>1</td>\n",
              "      <td>6</td>\n",
              "      <td>3</td>\n",
              "      <td>3</td>\n",
              "      <td>2</td>\n",
              "      <td>2</td>\n",
              "      <td>2</td>\n",
              "      <td>2</td>\n",
              "    </tr>\n",
              "  </tbody>\n",
              "</table>\n",
              "<p>5 rows × 27 columns</p>\n",
              "</div>"
            ],
            "text/plain": [
              "   Age Attrition     BusinessTravel              Department  DistanceFromHome  \\\n",
              "0   41       Yes      Travel_Rarely                   Sales                 1   \n",
              "1   49        No  Travel_Frequently  Research & Development                 8   \n",
              "2   37       Yes      Travel_Rarely  Research & Development                 2   \n",
              "3   33        No  Travel_Frequently  Research & Development                 3   \n",
              "4   27        No      Travel_Rarely  Research & Development                 2   \n",
              "\n",
              "   Education EducationField  EnvironmentSatisfaction  HourlyRate  \\\n",
              "0          2  Life Sciences                        2          94   \n",
              "1          1  Life Sciences                        3          61   \n",
              "2          2          Other                        4          92   \n",
              "3          4  Life Sciences                        4          56   \n",
              "4          1        Medical                        1          40   \n",
              "\n",
              "   JobInvolvement  ...  PerformanceRating RelationshipSatisfaction  \\\n",
              "0               3  ...                  3                        1   \n",
              "1               2  ...                  4                        4   \n",
              "2               2  ...                  3                        2   \n",
              "3               3  ...                  3                        3   \n",
              "4               3  ...                  3                        4   \n",
              "\n",
              "   StockOptionLevel TotalWorkingYears  TrainingTimesLastYear WorkLifeBalance  \\\n",
              "0                 0                 8                      0               1   \n",
              "1                 1                10                      3               3   \n",
              "2                 0                 7                      3               3   \n",
              "3                 0                 8                      3               3   \n",
              "4                 1                 6                      3               3   \n",
              "\n",
              "   YearsAtCompany  YearsInCurrentRole  YearsSinceLastPromotion  \\\n",
              "0               6                   4                        0   \n",
              "1              10                   7                        1   \n",
              "2               0                   0                        0   \n",
              "3               8                   7                        3   \n",
              "4               2                   2                        2   \n",
              "\n",
              "   YearsWithCurrManager  \n",
              "0                     5  \n",
              "1                     7  \n",
              "2                     0  \n",
              "3                     0  \n",
              "4                     2  \n",
              "\n",
              "[5 rows x 27 columns]"
            ]
          },
          "execution_count": 15,
          "metadata": {},
          "output_type": "execute_result"
        }
      ],
      "source": [
        "# Import our dependencies\n",
        "from sklearn.model_selection import train_test_split\n",
        "from sklearn.preprocessing import StandardScaler\n",
        "import pandas as pd\n",
        "import numpy as np\n",
        "from tensorflow.keras.models import Model\n",
        "from tensorflow.keras import layers\n",
        "\n",
        "#  Import and read the attrition data\n",
        "attrition_df = pd.read_csv('https://static.bc-edx.com/ai/ail-v-1-0/m19/lms/datasets/attrition.csv')\n",
        "attrition_df.head()"
      ]
    },
    {
      "cell_type": "code",
      "execution_count": 16,
      "metadata": {
        "colab": {
          "base_uri": "https://localhost:8080/"
        },
        "id": "g22aQSY4Gc3Q",
        "outputId": "1f5c13c1-b981-4e40-a7ed-dd3fe6f1b81e"
      },
      "outputs": [
        {
          "data": {
            "text/plain": [
              "Age                         43\n",
              "Attrition                    2\n",
              "BusinessTravel               3\n",
              "Department                   3\n",
              "DistanceFromHome            29\n",
              "Education                    5\n",
              "EducationField               6\n",
              "EnvironmentSatisfaction      4\n",
              "HourlyRate                  71\n",
              "JobInvolvement               4\n",
              "JobLevel                     5\n",
              "JobRole                      9\n",
              "JobSatisfaction              4\n",
              "MaritalStatus                3\n",
              "NumCompaniesWorked          10\n",
              "OverTime                     2\n",
              "PercentSalaryHike           15\n",
              "PerformanceRating            2\n",
              "RelationshipSatisfaction     4\n",
              "StockOptionLevel             4\n",
              "TotalWorkingYears           40\n",
              "TrainingTimesLastYear        7\n",
              "WorkLifeBalance              4\n",
              "YearsAtCompany              37\n",
              "YearsInCurrentRole          19\n",
              "YearsSinceLastPromotion     16\n",
              "YearsWithCurrManager        18\n",
              "dtype: int64"
            ]
          },
          "execution_count": 16,
          "metadata": {},
          "output_type": "execute_result"
        }
      ],
      "source": [
        "# Determine the number of unique values in each column.\n",
        "attrition_df.nunique()"
      ]
    },
    {
      "cell_type": "code",
      "execution_count": 17,
      "metadata": {
        "id": "50vMgBEnJbfM"
      },
      "outputs": [
        {
          "data": {
            "text/html": [
              "<div>\n",
              "<style scoped>\n",
              "    .dataframe tbody tr th:only-of-type {\n",
              "        vertical-align: middle;\n",
              "    }\n",
              "\n",
              "    .dataframe tbody tr th {\n",
              "        vertical-align: top;\n",
              "    }\n",
              "\n",
              "    .dataframe thead th {\n",
              "        text-align: right;\n",
              "    }\n",
              "</style>\n",
              "<table border=\"1\" class=\"dataframe\">\n",
              "  <thead>\n",
              "    <tr style=\"text-align: right;\">\n",
              "      <th></th>\n",
              "      <th>Attrition</th>\n",
              "      <th>Department</th>\n",
              "    </tr>\n",
              "  </thead>\n",
              "  <tbody>\n",
              "    <tr>\n",
              "      <th>0</th>\n",
              "      <td>Yes</td>\n",
              "      <td>Sales</td>\n",
              "    </tr>\n",
              "    <tr>\n",
              "      <th>1</th>\n",
              "      <td>No</td>\n",
              "      <td>Research &amp; Development</td>\n",
              "    </tr>\n",
              "    <tr>\n",
              "      <th>2</th>\n",
              "      <td>Yes</td>\n",
              "      <td>Research &amp; Development</td>\n",
              "    </tr>\n",
              "    <tr>\n",
              "      <th>3</th>\n",
              "      <td>No</td>\n",
              "      <td>Research &amp; Development</td>\n",
              "    </tr>\n",
              "    <tr>\n",
              "      <th>4</th>\n",
              "      <td>No</td>\n",
              "      <td>Research &amp; Development</td>\n",
              "    </tr>\n",
              "  </tbody>\n",
              "</table>\n",
              "</div>"
            ],
            "text/plain": [
              "  Attrition              Department\n",
              "0       Yes                   Sales\n",
              "1        No  Research & Development\n",
              "2       Yes  Research & Development\n",
              "3        No  Research & Development\n",
              "4        No  Research & Development"
            ]
          },
          "execution_count": 17,
          "metadata": {},
          "output_type": "execute_result"
        }
      ],
      "source": [
        "# Create y_df with the Attrition and Department columns\n",
        "y_df = attrition_df[['Attrition', 'Department']]\n",
        "y_df.head()"
      ]
    },
    {
      "cell_type": "code",
      "execution_count": 18,
      "metadata": {
        "colab": {
          "base_uri": "https://localhost:8080/"
        },
        "id": "Virka0zLGc3R",
        "outputId": "dd5aee3a-9458-4ba6-e857-1b234de40915"
      },
      "outputs": [
        {
          "data": {
            "text/plain": [
              "Age                         int64\n",
              "BusinessTravel             object\n",
              "DistanceFromHome            int64\n",
              "Education                   int64\n",
              "EnvironmentSatisfaction     int64\n",
              "HourlyRate                  int64\n",
              "JobInvolvement              int64\n",
              "JobLevel                    int64\n",
              "JobSatisfaction             int64\n",
              "MaritalStatus              object\n",
              "dtype: object"
            ]
          },
          "execution_count": 18,
          "metadata": {},
          "output_type": "execute_result"
        }
      ],
      "source": [
        "# Create a list of at least 10 column names to use as X data\n",
        "X_columns = ['Age', 'BusinessTravel', 'DistanceFromHome', 'Education', 'EnvironmentSatisfaction', 'HourlyRate', 'JobInvolvement', 'JobLevel', 'JobSatisfaction', 'MaritalStatus']\n",
        "\n",
        "\n",
        "# Create X_df using your selected columns\n",
        "X_df = attrition_df[X_columns]\n",
        "\n",
        "# Show the data types for X_df\n",
        "X_df.dtypes"
      ]
    },
    {
      "cell_type": "code",
      "execution_count": 19,
      "metadata": {
        "id": "KaJfdOGUMHMR"
      },
      "outputs": [],
      "source": [
        "# Split the data into training and testing sets\n",
        "from sklearn.model_selection import train_test_split\n",
        "\n",
        "X_train, X_test, y_train, y_test = train_test_split(X_df, y_df, random_state=78)"
      ]
    },
    {
      "cell_type": "code",
      "execution_count": 20,
      "metadata": {
        "colab": {
          "base_uri": "https://localhost:8080/"
        },
        "id": "NYubUJqiLCSp",
        "outputId": "53f31721-571c-4c94-d13e-25a715749593"
      },
      "outputs": [
        {
          "name": "stdout",
          "output_type": "stream",
          "text": [
            "      Age  DistanceFromHome  Education  EnvironmentSatisfaction  HourlyRate  \\\n",
            "591    33                16          3                        1          69   \n",
            "267    25                 5          2                        2          85   \n",
            "1236   36                13          5                        2          96   \n",
            "788    28                10          3                        3          59   \n",
            "1224   26                17          4                        4          62   \n",
            "\n",
            "      JobInvolvement  JobLevel  JobSatisfaction  BusinessTravel_Non-Travel  \\\n",
            "591                3         2                1                      False   \n",
            "267                4         2                1                       True   \n",
            "1236               2         2                1                      False   \n",
            "788                3         2                3                      False   \n",
            "1224               1         1                3                      False   \n",
            "\n",
            "      BusinessTravel_Travel_Frequently  BusinessTravel_Travel_Rarely  \\\n",
            "591                              False                          True   \n",
            "267                              False                         False   \n",
            "1236                             False                          True   \n",
            "788                              False                          True   \n",
            "1224                             False                          True   \n",
            "\n",
            "      MaritalStatus_Divorced  MaritalStatus_Married  MaritalStatus_Single  \n",
            "591                    False                  False                  True  \n",
            "267                     True                  False                 False  \n",
            "1236                    True                  False                 False  \n",
            "788                    False                  False                  True  \n",
            "1224                   False                   True                 False  \n",
            "      Age  DistanceFromHome  Education  EnvironmentSatisfaction  HourlyRate  \\\n",
            "471    38                10          3                        3          76   \n",
            "1090   29                 8          1                        3          39   \n",
            "441    42                 5          2                        2          97   \n",
            "979    34                29          3                        2          86   \n",
            "1085   31                 3          3                        4          33   \n",
            "\n",
            "      JobInvolvement  JobLevel  JobSatisfaction  BusinessTravel_Non-Travel  \\\n",
            "471                3         2                3                      False   \n",
            "1090               1         2                1                      False   \n",
            "441                3         1                3                      False   \n",
            "979                3         2                3                      False   \n",
            "1085               3         1                3                      False   \n",
            "\n",
            "      BusinessTravel_Travel_Frequently  BusinessTravel_Travel_Rarely  \\\n",
            "471                              False                          True   \n",
            "1090                             False                          True   \n",
            "441                               True                         False   \n",
            "979                              False                          True   \n",
            "1085                              True                         False   \n",
            "\n",
            "      MaritalStatus_Divorced  MaritalStatus_Married  MaritalStatus_Single  \n",
            "471                    False                   True                 False  \n",
            "1090                   False                   True                 False  \n",
            "441                    False                   True                 False  \n",
            "979                    False                   True                 False  \n",
            "1085                   False                  False                  True  \n"
          ]
        }
      ],
      "source": [
        "# Convert your X data to numeric data types however you see fit\n",
        "# Add new code cells as necessary\n",
        "\n",
        "# Convert categorical columns to numeric using one-hot encoding\n",
        "X_train_encoded = pd.get_dummies(X_train)\n",
        "X_test_encoded = pd.get_dummies(X_test)\n",
        "\n",
        "# Align the columns of the test set to match the training set\n",
        "X_test_encoded = X_test_encoded.reindex(columns = X_train_encoded.columns, fill_value=0)\n",
        "\n",
        "# Print the updated X_train_encoded and X_test_encoded DataFrames\n",
        "print(X_train_encoded.head())\n",
        "print(X_test_encoded.head())"
      ]
    },
    {
      "cell_type": "code",
      "execution_count": 21,
      "metadata": {
        "id": "EWA-aIA5Gc3T"
      },
      "outputs": [
        {
          "name": "stdout",
          "output_type": "stream",
          "text": [
            "[[-0.40942386  0.87475435  0.10528682 -1.54673288  0.12842688  0.38047011\n",
            "  -0.02218292 -1.54172867 -0.33801897 -0.47231924  0.63125047 -0.52906246\n",
            "  -0.91972613  1.44758613]\n",
            " [-1.29889668 -0.50720476 -0.88638904 -0.63425984  0.9190773   1.79218077\n",
            "  -0.02218292 -1.54172867  2.95841383 -0.47231924 -1.58415723  1.890136\n",
            "  -0.91972613 -0.69080518]\n",
            " [-0.07587155  0.49785641  2.08863855 -0.63425984  1.46264946 -1.03124054\n",
            "  -0.02218292 -1.54172867 -0.33801897 -0.47231924  0.63125047  1.890136\n",
            "  -0.91972613 -0.69080518]\n",
            " [-0.96534437  0.12095847  0.10528682  0.27821319 -0.36572963  0.38047011\n",
            "  -0.02218292  0.26186474 -0.33801897 -0.47231924  0.63125047 -0.52906246\n",
            "  -0.91972613  1.44758613]\n",
            " [-1.18771258  1.000387    1.09696269  1.19068623 -0.21748267 -2.4429512\n",
            "  -0.92757456  0.26186474 -0.33801897 -0.47231924  0.63125047 -0.52906246\n",
            "   1.08728019 -0.69080518]]\n",
            "[[ 0.14649666  0.12095847  0.10528682  0.27821319  0.47433644  0.38047011\n",
            "  -0.02218292  0.26186474 -0.33801897 -0.47231924  0.63125047 -0.52906246\n",
            "   1.08728019 -0.69080518]\n",
            " [-0.85416027 -0.13030682 -1.87806491  0.27821319 -1.35404265 -2.4429512\n",
            "  -0.02218292 -1.54172867 -0.33801897 -0.47231924  0.63125047 -0.52906246\n",
            "   1.08728019 -0.69080518]\n",
            " [ 0.59123307 -0.50720476 -0.88638904 -0.63425984  1.51206511  0.38047011\n",
            "  -0.92757456  0.26186474 -0.33801897  2.1172121  -1.58415723 -0.52906246\n",
            "   1.08728019 -0.69080518]\n",
            " [-0.29823975  2.50797876  0.10528682 -0.63425984  0.96849295  0.38047011\n",
            "  -0.02218292  0.26186474 -0.33801897 -0.47231924  0.63125047 -0.52906246\n",
            "   1.08728019 -0.69080518]\n",
            " [-0.63179206 -0.75847005  0.10528682  1.19068623 -1.65053655  0.38047011\n",
            "  -0.92757456  0.26186474 -0.33801897  2.1172121  -1.58415723 -0.52906246\n",
            "  -0.91972613  1.44758613]]\n"
          ]
        }
      ],
      "source": [
        "# Create a StandardScaler\n",
        "scaler = StandardScaler()\n",
        "\n",
        "# Fit the StandardScaler to the training data\n",
        "X_train_scaled = scaler.fit_transform(X_train_encoded)\n",
        "X_test_scaled = scaler.transform(X_test_encoded)\n",
        "\n",
        "# Scale the training and testing data\n",
        "print(X_train_scaled[:5])\n",
        "print(X_test_scaled[:5])"
      ]
    },
    {
      "cell_type": "code",
      "execution_count": 22,
      "metadata": {
        "colab": {
          "base_uri": "https://localhost:8080/"
        },
        "id": "-z0Mky8vQSz4",
        "outputId": "debefc85-c20b-48f5-f4d9-91eadd65d36a"
      },
      "outputs": [
        {
          "name": "stderr",
          "output_type": "stream",
          "text": [
            "/Users/jamiemcgraner/anaconda3/lib/python3.11/site-packages/sklearn/preprocessing/_encoders.py:868: FutureWarning: `sparse` was renamed to `sparse_output` in version 1.2 and will be removed in 1.4. `sparse_output` is ignored unless you leave `sparse` to its default value.\n",
            "  warnings.warn(\n"
          ]
        },
        {
          "data": {
            "text/plain": [
              "array([[0., 1., 0.],\n",
              "       [0., 1., 0.],\n",
              "       [0., 1., 0.],\n",
              "       [0., 1., 0.],\n",
              "       [0., 1., 0.]])"
            ]
          },
          "execution_count": 22,
          "metadata": {},
          "output_type": "execute_result"
        }
      ],
      "source": [
        "from sklearn.preprocessing import OneHotEncoder\n",
        "# Create a OneHotEncoder for the Department column\n",
        "department_encoder = OneHotEncoder(sparse=False, handle_unknown='ignore')\n",
        "\n",
        "# Fit the encoder to the training data\n",
        "department_encoder.fit(y_train[['Department']])\n",
        "\n",
        "# Create two new variables by applying the encoder\n",
        "# to the training and testing data\n",
        "y_train_department = department_encoder.transform(y_train[['Department']])\n",
        "y_test_department = department_encoder.transform(y_test[['Department']])\n",
        "\n",
        "y_train_department[:5]\n",
        "y_test_department[:5]\n"
      ]
    },
    {
      "cell_type": "code",
      "execution_count": 23,
      "metadata": {
        "colab": {
          "base_uri": "https://localhost:8080/"
        },
        "id": "-G4DSpvFRrk4",
        "outputId": "9842e948-8a55-4b80-8fac-f96714e85589"
      },
      "outputs": [
        {
          "name": "stderr",
          "output_type": "stream",
          "text": [
            "/Users/jamiemcgraner/anaconda3/lib/python3.11/site-packages/sklearn/preprocessing/_encoders.py:868: FutureWarning: `sparse` was renamed to `sparse_output` in version 1.2 and will be removed in 1.4. `sparse_output` is ignored unless you leave `sparse` to its default value.\n",
            "  warnings.warn(\n"
          ]
        },
        {
          "data": {
            "text/plain": [
              "array([[1., 0.],\n",
              "       [1., 0.],\n",
              "       [1., 0.],\n",
              "       [1., 0.],\n",
              "       [0., 1.]])"
            ]
          },
          "execution_count": 23,
          "metadata": {},
          "output_type": "execute_result"
        }
      ],
      "source": [
        "# Create a OneHotEncoder for the Attrition column\n",
        "attrition_encoder = OneHotEncoder(sparse=False, handle_unknown='ignore')\n",
        "\n",
        "# Fit the encoder to the training data\n",
        "attrition_encoder.fit(y_train[['Attrition']])\n",
        "\n",
        "# Create two new variables by applying the encoder\n",
        "# to the training and testing data\n",
        "y_train_attrition = attrition_encoder.transform(y_train[['Attrition']])\n",
        "y_test_attrition = attrition_encoder.transform(y_test[['Attrition']])\n",
        "\n",
        "y_train_attrition[:5]\n",
        "y_test_attrition[:5]"
      ]
    },
    {
      "cell_type": "markdown",
      "metadata": {
        "id": "ykNmu_WWGc3T"
      },
      "source": [
        "## Create, Compile, and Train the Model"
      ]
    },
    {
      "cell_type": "code",
      "execution_count": 24,
      "metadata": {
        "id": "WUptZqmSGc3T"
      },
      "outputs": [],
      "source": [
        "# Find the number of columns in the X training data\n",
        "num_features = X_train_scaled.shape[1]\n",
        "\n",
        "# Create the input layer\n",
        "input_layer = layers.Input(shape=(num_features,))\n",
        "\n",
        "# Create at least two shared layers\n",
        "shared_layer1 = layers.Dense(units=10, activation='relu')(input_layer)\n",
        "shared_layer2 = layers.Dense(units=5, activation='relu')(shared_layer1)"
      ]
    },
    {
      "cell_type": "code",
      "execution_count": 32,
      "metadata": {
        "id": "JukjTm2yTEqd"
      },
      "outputs": [],
      "source": [
        "# Create a branch for Department\n",
        "# with a hidden layer and an output layer\n",
        "\n",
        "# Create the hidden layer\n",
        "department_hidden_layer = layers.Dense(units=5, activation='relu')(shared_layer2)\n",
        "\n",
        "# Create the output layer\n",
        "department_output_layer = layers.Dense(units=y_train_department.shape[1], activation='softmax', name='department_output')(department_hidden_layer)"
      ]
    },
    {
      "cell_type": "code",
      "execution_count": 33,
      "metadata": {
        "id": "9OqhUiOJUBkR"
      },
      "outputs": [],
      "source": [
        "# Create a branch for Attrition\n",
        "# with a hidden layer and an output layer\n",
        "\n",
        "# Create the hidden layer\n",
        "attrition_hidden_layer = layers.Dense(units=5, activation='relu')(shared_layer2)\n",
        "\n",
        "# Create the output layer\n",
        "attrition_output_layer = layers.Dense(units=y_train_attrition.shape[1], activation='softmax', name='attrition_output')(attrition_hidden_layer)\n"
      ]
    },
    {
      "cell_type": "code",
      "execution_count": 36,
      "metadata": {
        "colab": {
          "base_uri": "https://localhost:8080/"
        },
        "id": "twmuejdxGc3T",
        "outputId": "25096308-b68b-42e4-e4ea-ae82e97c435a"
      },
      "outputs": [
        {
          "data": {
            "text/html": [
              "<pre style=\"white-space:pre;overflow-x:auto;line-height:normal;font-family:Menlo,'DejaVu Sans Mono',consolas,'Courier New',monospace\"><span style=\"font-weight: bold\">Model: \"functional_3\"</span>\n",
              "</pre>\n"
            ],
            "text/plain": [
              "\u001b[1mModel: \"functional_3\"\u001b[0m\n"
            ]
          },
          "metadata": {},
          "output_type": "display_data"
        },
        {
          "data": {
            "text/html": [
              "<pre style=\"white-space:pre;overflow-x:auto;line-height:normal;font-family:Menlo,'DejaVu Sans Mono',consolas,'Courier New',monospace\">┏━━━━━━━━━━━━━━━━━━━━━┳━━━━━━━━━━━━━━━━━━━┳━━━━━━━━━━━━┳━━━━━━━━━━━━━━━━━━━┓\n",
              "┃<span style=\"font-weight: bold\"> Layer (type)        </span>┃<span style=\"font-weight: bold\"> Output Shape      </span>┃<span style=\"font-weight: bold\">    Param # </span>┃<span style=\"font-weight: bold\"> Connected to      </span>┃\n",
              "┡━━━━━━━━━━━━━━━━━━━━━╇━━━━━━━━━━━━━━━━━━━╇━━━━━━━━━━━━╇━━━━━━━━━━━━━━━━━━━┩\n",
              "│ input_layer_1       │ (<span style=\"color: #00d7ff; text-decoration-color: #00d7ff\">None</span>, <span style=\"color: #00af00; text-decoration-color: #00af00\">14</span>)        │          <span style=\"color: #00af00; text-decoration-color: #00af00\">0</span> │ -                 │\n",
              "│ (<span style=\"color: #0087ff; text-decoration-color: #0087ff\">InputLayer</span>)        │                   │            │                   │\n",
              "├─────────────────────┼───────────────────┼────────────┼───────────────────┤\n",
              "│ dense_2 (<span style=\"color: #0087ff; text-decoration-color: #0087ff\">Dense</span>)     │ (<span style=\"color: #00d7ff; text-decoration-color: #00d7ff\">None</span>, <span style=\"color: #00af00; text-decoration-color: #00af00\">10</span>)        │        <span style=\"color: #00af00; text-decoration-color: #00af00\">150</span> │ input_layer_1[<span style=\"color: #00af00; text-decoration-color: #00af00\">0</span>]… │\n",
              "├─────────────────────┼───────────────────┼────────────┼───────────────────┤\n",
              "│ dense_3 (<span style=\"color: #0087ff; text-decoration-color: #0087ff\">Dense</span>)     │ (<span style=\"color: #00d7ff; text-decoration-color: #00d7ff\">None</span>, <span style=\"color: #00af00; text-decoration-color: #00af00\">5</span>)         │         <span style=\"color: #00af00; text-decoration-color: #00af00\">55</span> │ dense_2[<span style=\"color: #00af00; text-decoration-color: #00af00\">0</span>][<span style=\"color: #00af00; text-decoration-color: #00af00\">0</span>]     │\n",
              "├─────────────────────┼───────────────────┼────────────┼───────────────────┤\n",
              "│ dense_5 (<span style=\"color: #0087ff; text-decoration-color: #0087ff\">Dense</span>)     │ (<span style=\"color: #00d7ff; text-decoration-color: #00d7ff\">None</span>, <span style=\"color: #00af00; text-decoration-color: #00af00\">5</span>)         │         <span style=\"color: #00af00; text-decoration-color: #00af00\">30</span> │ dense_3[<span style=\"color: #00af00; text-decoration-color: #00af00\">0</span>][<span style=\"color: #00af00; text-decoration-color: #00af00\">0</span>]     │\n",
              "├─────────────────────┼───────────────────┼────────────┼───────────────────┤\n",
              "│ dense_6 (<span style=\"color: #0087ff; text-decoration-color: #0087ff\">Dense</span>)     │ (<span style=\"color: #00d7ff; text-decoration-color: #00d7ff\">None</span>, <span style=\"color: #00af00; text-decoration-color: #00af00\">5</span>)         │         <span style=\"color: #00af00; text-decoration-color: #00af00\">30</span> │ dense_3[<span style=\"color: #00af00; text-decoration-color: #00af00\">0</span>][<span style=\"color: #00af00; text-decoration-color: #00af00\">0</span>]     │\n",
              "├─────────────────────┼───────────────────┼────────────┼───────────────────┤\n",
              "│ department_output   │ (<span style=\"color: #00d7ff; text-decoration-color: #00d7ff\">None</span>, <span style=\"color: #00af00; text-decoration-color: #00af00\">3</span>)         │         <span style=\"color: #00af00; text-decoration-color: #00af00\">18</span> │ dense_5[<span style=\"color: #00af00; text-decoration-color: #00af00\">0</span>][<span style=\"color: #00af00; text-decoration-color: #00af00\">0</span>]     │\n",
              "│ (<span style=\"color: #0087ff; text-decoration-color: #0087ff\">Dense</span>)             │                   │            │                   │\n",
              "├─────────────────────┼───────────────────┼────────────┼───────────────────┤\n",
              "│ attrition_output    │ (<span style=\"color: #00d7ff; text-decoration-color: #00d7ff\">None</span>, <span style=\"color: #00af00; text-decoration-color: #00af00\">2</span>)         │         <span style=\"color: #00af00; text-decoration-color: #00af00\">12</span> │ dense_6[<span style=\"color: #00af00; text-decoration-color: #00af00\">0</span>][<span style=\"color: #00af00; text-decoration-color: #00af00\">0</span>]     │\n",
              "│ (<span style=\"color: #0087ff; text-decoration-color: #0087ff\">Dense</span>)             │                   │            │                   │\n",
              "└─────────────────────┴───────────────────┴────────────┴───────────────────┘\n",
              "</pre>\n"
            ],
            "text/plain": [
              "┏━━━━━━━━━━━━━━━━━━━━━┳━━━━━━━━━━━━━━━━━━━┳━━━━━━━━━━━━┳━━━━━━━━━━━━━━━━━━━┓\n",
              "┃\u001b[1m \u001b[0m\u001b[1mLayer (type)       \u001b[0m\u001b[1m \u001b[0m┃\u001b[1m \u001b[0m\u001b[1mOutput Shape     \u001b[0m\u001b[1m \u001b[0m┃\u001b[1m \u001b[0m\u001b[1m   Param #\u001b[0m\u001b[1m \u001b[0m┃\u001b[1m \u001b[0m\u001b[1mConnected to     \u001b[0m\u001b[1m \u001b[0m┃\n",
              "┡━━━━━━━━━━━━━━━━━━━━━╇━━━━━━━━━━━━━━━━━━━╇━━━━━━━━━━━━╇━━━━━━━━━━━━━━━━━━━┩\n",
              "│ input_layer_1       │ (\u001b[38;5;45mNone\u001b[0m, \u001b[38;5;34m14\u001b[0m)        │          \u001b[38;5;34m0\u001b[0m │ -                 │\n",
              "│ (\u001b[38;5;33mInputLayer\u001b[0m)        │                   │            │                   │\n",
              "├─────────────────────┼───────────────────┼────────────┼───────────────────┤\n",
              "│ dense_2 (\u001b[38;5;33mDense\u001b[0m)     │ (\u001b[38;5;45mNone\u001b[0m, \u001b[38;5;34m10\u001b[0m)        │        \u001b[38;5;34m150\u001b[0m │ input_layer_1[\u001b[38;5;34m0\u001b[0m]… │\n",
              "├─────────────────────┼───────────────────┼────────────┼───────────────────┤\n",
              "│ dense_3 (\u001b[38;5;33mDense\u001b[0m)     │ (\u001b[38;5;45mNone\u001b[0m, \u001b[38;5;34m5\u001b[0m)         │         \u001b[38;5;34m55\u001b[0m │ dense_2[\u001b[38;5;34m0\u001b[0m][\u001b[38;5;34m0\u001b[0m]     │\n",
              "├─────────────────────┼───────────────────┼────────────┼───────────────────┤\n",
              "│ dense_5 (\u001b[38;5;33mDense\u001b[0m)     │ (\u001b[38;5;45mNone\u001b[0m, \u001b[38;5;34m5\u001b[0m)         │         \u001b[38;5;34m30\u001b[0m │ dense_3[\u001b[38;5;34m0\u001b[0m][\u001b[38;5;34m0\u001b[0m]     │\n",
              "├─────────────────────┼───────────────────┼────────────┼───────────────────┤\n",
              "│ dense_6 (\u001b[38;5;33mDense\u001b[0m)     │ (\u001b[38;5;45mNone\u001b[0m, \u001b[38;5;34m5\u001b[0m)         │         \u001b[38;5;34m30\u001b[0m │ dense_3[\u001b[38;5;34m0\u001b[0m][\u001b[38;5;34m0\u001b[0m]     │\n",
              "├─────────────────────┼───────────────────┼────────────┼───────────────────┤\n",
              "│ department_output   │ (\u001b[38;5;45mNone\u001b[0m, \u001b[38;5;34m3\u001b[0m)         │         \u001b[38;5;34m18\u001b[0m │ dense_5[\u001b[38;5;34m0\u001b[0m][\u001b[38;5;34m0\u001b[0m]     │\n",
              "│ (\u001b[38;5;33mDense\u001b[0m)             │                   │            │                   │\n",
              "├─────────────────────┼───────────────────┼────────────┼───────────────────┤\n",
              "│ attrition_output    │ (\u001b[38;5;45mNone\u001b[0m, \u001b[38;5;34m2\u001b[0m)         │         \u001b[38;5;34m12\u001b[0m │ dense_6[\u001b[38;5;34m0\u001b[0m][\u001b[38;5;34m0\u001b[0m]     │\n",
              "│ (\u001b[38;5;33mDense\u001b[0m)             │                   │            │                   │\n",
              "└─────────────────────┴───────────────────┴────────────┴───────────────────┘\n"
            ]
          },
          "metadata": {},
          "output_type": "display_data"
        },
        {
          "data": {
            "text/html": [
              "<pre style=\"white-space:pre;overflow-x:auto;line-height:normal;font-family:Menlo,'DejaVu Sans Mono',consolas,'Courier New',monospace\"><span style=\"font-weight: bold\"> Total params: </span><span style=\"color: #00af00; text-decoration-color: #00af00\">295</span> (1.15 KB)\n",
              "</pre>\n"
            ],
            "text/plain": [
              "\u001b[1m Total params: \u001b[0m\u001b[38;5;34m295\u001b[0m (1.15 KB)\n"
            ]
          },
          "metadata": {},
          "output_type": "display_data"
        },
        {
          "data": {
            "text/html": [
              "<pre style=\"white-space:pre;overflow-x:auto;line-height:normal;font-family:Menlo,'DejaVu Sans Mono',consolas,'Courier New',monospace\"><span style=\"font-weight: bold\"> Trainable params: </span><span style=\"color: #00af00; text-decoration-color: #00af00\">295</span> (1.15 KB)\n",
              "</pre>\n"
            ],
            "text/plain": [
              "\u001b[1m Trainable params: \u001b[0m\u001b[38;5;34m295\u001b[0m (1.15 KB)\n"
            ]
          },
          "metadata": {},
          "output_type": "display_data"
        },
        {
          "data": {
            "text/html": [
              "<pre style=\"white-space:pre;overflow-x:auto;line-height:normal;font-family:Menlo,'DejaVu Sans Mono',consolas,'Courier New',monospace\"><span style=\"font-weight: bold\"> Non-trainable params: </span><span style=\"color: #00af00; text-decoration-color: #00af00\">0</span> (0.00 B)\n",
              "</pre>\n"
            ],
            "text/plain": [
              "\u001b[1m Non-trainable params: \u001b[0m\u001b[38;5;34m0\u001b[0m (0.00 B)\n"
            ]
          },
          "metadata": {},
          "output_type": "display_data"
        }
      ],
      "source": [
        "# Create the model\n",
        "model = Model(inputs=input_layer, outputs=[department_output_layer, attrition_output_layer])\n",
        "\n",
        "# Compile the model\n",
        "model.compile(optimizer='adam', \n",
        "            loss={'department_output': 'categorical_crossentropy', 'attrition_output': 'categorical_crossentropy'}, \n",
        "            metrics={'department_output': 'accuracy', 'attrition_output': 'accuracy'})\n",
        "\n",
        "# Summarize the model\n",
        "model.summary()"
      ]
    },
    {
      "cell_type": "code",
      "execution_count": 37,
      "metadata": {
        "colab": {
          "base_uri": "https://localhost:8080/"
        },
        "id": "c8oGy0dpGc3U",
        "outputId": "cc667d43-28cf-42d4-d719-c2bc02888d30"
      },
      "outputs": [
        {
          "name": "stdout",
          "output_type": "stream",
          "text": [
            "Epoch 1/50\n",
            "\u001b[1m28/28\u001b[0m \u001b[32m━━━━━━━━━━━━━━━━━━━━\u001b[0m\u001b[37m\u001b[0m \u001b[1m1s\u001b[0m 5ms/step - attrition_output_accuracy: 0.4037 - department_output_accuracy: 0.2872 - loss: 2.0293 - val_attrition_output_accuracy: 0.5792 - val_department_output_accuracy: 0.4208 - val_loss: 1.8420\n",
            "Epoch 2/50\n",
            "\u001b[1m28/28\u001b[0m \u001b[32m━━━━━━━━━━━━━━━━━━━━\u001b[0m\u001b[37m\u001b[0m \u001b[1m0s\u001b[0m 935us/step - attrition_output_accuracy: 0.5912 - department_output_accuracy: 0.4621 - loss: 1.8233 - val_attrition_output_accuracy: 0.7376 - val_department_output_accuracy: 0.5928 - val_loss: 1.7119\n",
            "Epoch 3/50\n",
            "\u001b[1m28/28\u001b[0m \u001b[32m━━━━━━━━━━━━━━━━━━━━\u001b[0m\u001b[37m\u001b[0m \u001b[1m0s\u001b[0m 957us/step - attrition_output_accuracy: 0.7124 - department_output_accuracy: 0.5761 - loss: 1.7052 - val_attrition_output_accuracy: 0.8054 - val_department_output_accuracy: 0.6380 - val_loss: 1.6160\n",
            "Epoch 4/50\n",
            "\u001b[1m28/28\u001b[0m \u001b[32m━━━━━━━━━━━━━━━━━━━━\u001b[0m\u001b[37m\u001b[0m \u001b[1m0s\u001b[0m 920us/step - attrition_output_accuracy: 0.8200 - department_output_accuracy: 0.6392 - loss: 1.5977 - val_attrition_output_accuracy: 0.8235 - val_department_output_accuracy: 0.6561 - val_loss: 1.5247\n",
            "Epoch 5/50\n",
            "\u001b[1m28/28\u001b[0m \u001b[32m━━━━━━━━━━━━━━━━━━━━\u001b[0m\u001b[37m\u001b[0m \u001b[1m0s\u001b[0m 3ms/step - attrition_output_accuracy: 0.8393 - department_output_accuracy: 0.6512 - loss: 1.5112 - val_attrition_output_accuracy: 0.8235 - val_department_output_accuracy: 0.6606 - val_loss: 1.4446\n",
            "Epoch 6/50\n",
            "\u001b[1m28/28\u001b[0m \u001b[32m━━━━━━━━━━━━━━━━━━━━\u001b[0m\u001b[37m\u001b[0m \u001b[1m0s\u001b[0m 946us/step - attrition_output_accuracy: 0.8176 - department_output_accuracy: 0.6733 - loss: 1.4266 - val_attrition_output_accuracy: 0.8235 - val_department_output_accuracy: 0.6606 - val_loss: 1.3842\n",
            "Epoch 7/50\n",
            "\u001b[1m28/28\u001b[0m \u001b[32m━━━━━━━━━━━━━━━━━━━━\u001b[0m\u001b[37m\u001b[0m \u001b[1m0s\u001b[0m 1ms/step - attrition_output_accuracy: 0.8285 - department_output_accuracy: 0.6801 - loss: 1.3565 - val_attrition_output_accuracy: 0.8235 - val_department_output_accuracy: 0.6606 - val_loss: 1.3439\n",
            "Epoch 8/50\n",
            "\u001b[1m28/28\u001b[0m \u001b[32m━━━━━━━━━━━━━━━━━━━━\u001b[0m\u001b[37m\u001b[0m \u001b[1m0s\u001b[0m 1ms/step - attrition_output_accuracy: 0.8294 - department_output_accuracy: 0.6636 - loss: 1.3361 - val_attrition_output_accuracy: 0.8235 - val_department_output_accuracy: 0.6606 - val_loss: 1.3167\n",
            "Epoch 9/50\n",
            "\u001b[1m28/28\u001b[0m \u001b[32m━━━━━━━━━━━━━━━━━━━━\u001b[0m\u001b[37m\u001b[0m \u001b[1m0s\u001b[0m 2ms/step - attrition_output_accuracy: 0.8134 - department_output_accuracy: 0.6726 - loss: 1.2995 - val_attrition_output_accuracy: 0.8235 - val_department_output_accuracy: 0.6606 - val_loss: 1.2890\n",
            "Epoch 10/50\n",
            "\u001b[1m28/28\u001b[0m \u001b[32m━━━━━━━━━━━━━━━━━━━━\u001b[0m\u001b[37m\u001b[0m \u001b[1m0s\u001b[0m 1ms/step - attrition_output_accuracy: 0.8326 - department_output_accuracy: 0.6627 - loss: 1.2730 - val_attrition_output_accuracy: 0.8235 - val_department_output_accuracy: 0.6606 - val_loss: 1.2645\n",
            "Epoch 11/50\n",
            "\u001b[1m28/28\u001b[0m \u001b[32m━━━━━━━━━━━━━━━━━━━━\u001b[0m\u001b[37m\u001b[0m \u001b[1m0s\u001b[0m 1ms/step - attrition_output_accuracy: 0.8091 - department_output_accuracy: 0.6823 - loss: 1.2475 - val_attrition_output_accuracy: 0.8235 - val_department_output_accuracy: 0.6606 - val_loss: 1.2409\n",
            "Epoch 12/50\n",
            "\u001b[1m28/28\u001b[0m \u001b[32m━━━━━━━━━━━━━━━━━━━━\u001b[0m\u001b[37m\u001b[0m \u001b[1m0s\u001b[0m 945us/step - attrition_output_accuracy: 0.8284 - department_output_accuracy: 0.6607 - loss: 1.2370 - val_attrition_output_accuracy: 0.8235 - val_department_output_accuracy: 0.6606 - val_loss: 1.2262\n",
            "Epoch 13/50\n",
            "\u001b[1m28/28\u001b[0m \u001b[32m━━━━━━━━━━━━━━━━━━━━\u001b[0m\u001b[37m\u001b[0m \u001b[1m0s\u001b[0m 2ms/step - attrition_output_accuracy: 0.8032 - department_output_accuracy: 0.6631 - loss: 1.2481 - val_attrition_output_accuracy: 0.8235 - val_department_output_accuracy: 0.6606 - val_loss: 1.2117\n",
            "Epoch 14/50\n",
            "\u001b[1m28/28\u001b[0m \u001b[32m━━━━━━━━━━━━━━━━━━━━\u001b[0m\u001b[37m\u001b[0m \u001b[1m0s\u001b[0m 927us/step - attrition_output_accuracy: 0.8386 - department_output_accuracy: 0.6831 - loss: 1.1809 - val_attrition_output_accuracy: 0.8235 - val_department_output_accuracy: 0.6606 - val_loss: 1.2026\n",
            "Epoch 15/50\n",
            "\u001b[1m28/28\u001b[0m \u001b[32m━━━━━━━━━━━━━━━━━━━━\u001b[0m\u001b[37m\u001b[0m \u001b[1m0s\u001b[0m 888us/step - attrition_output_accuracy: 0.8301 - department_output_accuracy: 0.6891 - loss: 1.1402 - val_attrition_output_accuracy: 0.8281 - val_department_output_accuracy: 0.6606 - val_loss: 1.1949\n",
            "Epoch 16/50\n",
            "\u001b[1m28/28\u001b[0m \u001b[32m━━━━━━━━━━━━━━━━━━━━\u001b[0m\u001b[37m\u001b[0m \u001b[1m0s\u001b[0m 911us/step - attrition_output_accuracy: 0.8377 - department_output_accuracy: 0.6850 - loss: 1.1745 - val_attrition_output_accuracy: 0.8281 - val_department_output_accuracy: 0.6606 - val_loss: 1.1891\n",
            "Epoch 17/50\n",
            "\u001b[1m28/28\u001b[0m \u001b[32m━━━━━━━━━━━━━━━━━━━━\u001b[0m\u001b[37m\u001b[0m \u001b[1m0s\u001b[0m 925us/step - attrition_output_accuracy: 0.8304 - department_output_accuracy: 0.6603 - loss: 1.1947 - val_attrition_output_accuracy: 0.8281 - val_department_output_accuracy: 0.6606 - val_loss: 1.1856\n",
            "Epoch 18/50\n",
            "\u001b[1m28/28\u001b[0m \u001b[32m━━━━━━━━━━━━━━━━━━━━\u001b[0m\u001b[37m\u001b[0m \u001b[1m0s\u001b[0m 1ms/step - attrition_output_accuracy: 0.8397 - department_output_accuracy: 0.7051 - loss: 1.1271 - val_attrition_output_accuracy: 0.8235 - val_department_output_accuracy: 0.6606 - val_loss: 1.1848\n",
            "Epoch 19/50\n",
            "\u001b[1m28/28\u001b[0m \u001b[32m━━━━━━━━━━━━━━━━━━━━\u001b[0m\u001b[37m\u001b[0m \u001b[1m0s\u001b[0m 912us/step - attrition_output_accuracy: 0.8461 - department_output_accuracy: 0.6594 - loss: 1.1757 - val_attrition_output_accuracy: 0.8235 - val_department_output_accuracy: 0.6606 - val_loss: 1.1827\n",
            "Epoch 20/50\n",
            "\u001b[1m28/28\u001b[0m \u001b[32m━━━━━━━━━━━━━━━━━━━━\u001b[0m\u001b[37m\u001b[0m \u001b[1m0s\u001b[0m 957us/step - attrition_output_accuracy: 0.8219 - department_output_accuracy: 0.6479 - loss: 1.2110 - val_attrition_output_accuracy: 0.8235 - val_department_output_accuracy: 0.6606 - val_loss: 1.1816\n",
            "Epoch 21/50\n",
            "\u001b[1m28/28\u001b[0m \u001b[32m━━━━━━━━━━━━━━━━━━━━\u001b[0m\u001b[37m\u001b[0m \u001b[1m0s\u001b[0m 894us/step - attrition_output_accuracy: 0.8362 - department_output_accuracy: 0.6535 - loss: 1.1708 - val_attrition_output_accuracy: 0.8235 - val_department_output_accuracy: 0.6606 - val_loss: 1.1804\n",
            "Epoch 22/50\n",
            "\u001b[1m28/28\u001b[0m \u001b[32m━━━━━━━━━━━━━━━━━━━━\u001b[0m\u001b[37m\u001b[0m \u001b[1m0s\u001b[0m 858us/step - attrition_output_accuracy: 0.8259 - department_output_accuracy: 0.6723 - loss: 1.1685 - val_attrition_output_accuracy: 0.8235 - val_department_output_accuracy: 0.6606 - val_loss: 1.1807\n",
            "Epoch 23/50\n",
            "\u001b[1m28/28\u001b[0m \u001b[32m━━━━━━━━━━━━━━━━━━━━\u001b[0m\u001b[37m\u001b[0m \u001b[1m0s\u001b[0m 877us/step - attrition_output_accuracy: 0.8514 - department_output_accuracy: 0.6478 - loss: 1.1746 - val_attrition_output_accuracy: 0.8235 - val_department_output_accuracy: 0.6606 - val_loss: 1.1805\n",
            "Epoch 24/50\n",
            "\u001b[1m28/28\u001b[0m \u001b[32m━━━━━━━━━━━━━━━━━━━━\u001b[0m\u001b[37m\u001b[0m \u001b[1m0s\u001b[0m 2ms/step - attrition_output_accuracy: 0.8466 - department_output_accuracy: 0.6697 - loss: 1.1566 - val_attrition_output_accuracy: 0.8281 - val_department_output_accuracy: 0.6606 - val_loss: 1.1783\n",
            "Epoch 25/50\n",
            "\u001b[1m28/28\u001b[0m \u001b[32m━━━━━━━━━━━━━━━━━━━━\u001b[0m\u001b[37m\u001b[0m \u001b[1m0s\u001b[0m 846us/step - attrition_output_accuracy: 0.8587 - department_output_accuracy: 0.6680 - loss: 1.1338 - val_attrition_output_accuracy: 0.8281 - val_department_output_accuracy: 0.6606 - val_loss: 1.1794\n",
            "Epoch 26/50\n",
            "\u001b[1m28/28\u001b[0m \u001b[32m━━━━━━━━━━━━━━━━━━━━\u001b[0m\u001b[37m\u001b[0m \u001b[1m0s\u001b[0m 890us/step - attrition_output_accuracy: 0.8514 - department_output_accuracy: 0.6742 - loss: 1.1308 - val_attrition_output_accuracy: 0.8235 - val_department_output_accuracy: 0.6606 - val_loss: 1.1800\n",
            "Epoch 27/50\n",
            "\u001b[1m28/28\u001b[0m \u001b[32m━━━━━━━━━━━━━━━━━━━━\u001b[0m\u001b[37m\u001b[0m \u001b[1m0s\u001b[0m 972us/step - attrition_output_accuracy: 0.8504 - department_output_accuracy: 0.6597 - loss: 1.1579 - val_attrition_output_accuracy: 0.8281 - val_department_output_accuracy: 0.6606 - val_loss: 1.1794\n",
            "Epoch 28/50\n",
            "\u001b[1m28/28\u001b[0m \u001b[32m━━━━━━━━━━━━━━━━━━━━\u001b[0m\u001b[37m\u001b[0m \u001b[1m0s\u001b[0m 1ms/step - attrition_output_accuracy: 0.8535 - department_output_accuracy: 0.6488 - loss: 1.1515 - val_attrition_output_accuracy: 0.8190 - val_department_output_accuracy: 0.6606 - val_loss: 1.1784\n",
            "Epoch 29/50\n",
            "\u001b[1m28/28\u001b[0m \u001b[32m━━━━━━━━━━━━━━━━━━━━\u001b[0m\u001b[37m\u001b[0m \u001b[1m0s\u001b[0m 905us/step - attrition_output_accuracy: 0.8420 - department_output_accuracy: 0.6678 - loss: 1.1649 - val_attrition_output_accuracy: 0.8190 - val_department_output_accuracy: 0.6606 - val_loss: 1.1797\n",
            "Epoch 30/50\n",
            "\u001b[1m28/28\u001b[0m \u001b[32m━━━━━━━━━━━━━━━━━━━━\u001b[0m\u001b[37m\u001b[0m \u001b[1m0s\u001b[0m 850us/step - attrition_output_accuracy: 0.8501 - department_output_accuracy: 0.6700 - loss: 1.1630 - val_attrition_output_accuracy: 0.8235 - val_department_output_accuracy: 0.6606 - val_loss: 1.1802\n",
            "Epoch 31/50\n",
            "\u001b[1m28/28\u001b[0m \u001b[32m━━━━━━━━━━━━━━━━━━━━\u001b[0m\u001b[37m\u001b[0m \u001b[1m0s\u001b[0m 847us/step - attrition_output_accuracy: 0.8517 - department_output_accuracy: 0.6571 - loss: 1.1283 - val_attrition_output_accuracy: 0.8190 - val_department_output_accuracy: 0.6606 - val_loss: 1.1788\n",
            "Epoch 32/50\n",
            "\u001b[1m28/28\u001b[0m \u001b[32m━━━━━━━━━━━━━━━━━━━━\u001b[0m\u001b[37m\u001b[0m \u001b[1m0s\u001b[0m 912us/step - attrition_output_accuracy: 0.8524 - department_output_accuracy: 0.6894 - loss: 1.1506 - val_attrition_output_accuracy: 0.8235 - val_department_output_accuracy: 0.6606 - val_loss: 1.1804\n",
            "Epoch 33/50\n",
            "\u001b[1m28/28\u001b[0m \u001b[32m━━━━━━━━━━━━━━━━━━━━\u001b[0m\u001b[37m\u001b[0m \u001b[1m0s\u001b[0m 1ms/step - attrition_output_accuracy: 0.8697 - department_output_accuracy: 0.6647 - loss: 1.1004 - val_attrition_output_accuracy: 0.8235 - val_department_output_accuracy: 0.6606 - val_loss: 1.1807\n",
            "Epoch 34/50\n",
            "\u001b[1m28/28\u001b[0m \u001b[32m━━━━━━━━━━━━━━━━━━━━\u001b[0m\u001b[37m\u001b[0m \u001b[1m0s\u001b[0m 977us/step - attrition_output_accuracy: 0.8269 - department_output_accuracy: 0.6823 - loss: 1.1649 - val_attrition_output_accuracy: 0.8145 - val_department_output_accuracy: 0.6606 - val_loss: 1.1775\n",
            "Epoch 35/50\n",
            "\u001b[1m28/28\u001b[0m \u001b[32m━━━━━━━━━━━━━━━━━━━━\u001b[0m\u001b[37m\u001b[0m \u001b[1m0s\u001b[0m 894us/step - attrition_output_accuracy: 0.8587 - department_output_accuracy: 0.6953 - loss: 1.0992 - val_attrition_output_accuracy: 0.8281 - val_department_output_accuracy: 0.6606 - val_loss: 1.1789\n",
            "Epoch 36/50\n",
            "\u001b[1m28/28\u001b[0m \u001b[32m━━━━━━━━━━━━━━━━━━━━\u001b[0m\u001b[37m\u001b[0m \u001b[1m0s\u001b[0m 872us/step - attrition_output_accuracy: 0.8542 - department_output_accuracy: 0.6661 - loss: 1.1246 - val_attrition_output_accuracy: 0.8100 - val_department_output_accuracy: 0.6606 - val_loss: 1.1768\n",
            "Epoch 37/50\n",
            "\u001b[1m28/28\u001b[0m \u001b[32m━━━━━━━━━━━━━━━━━━━━\u001b[0m\u001b[37m\u001b[0m \u001b[1m0s\u001b[0m 899us/step - attrition_output_accuracy: 0.8297 - department_output_accuracy: 0.6388 - loss: 1.2077 - val_attrition_output_accuracy: 0.8235 - val_department_output_accuracy: 0.6606 - val_loss: 1.1785\n",
            "Epoch 38/50\n",
            "\u001b[1m28/28\u001b[0m \u001b[32m━━━━━━━━━━━━━━━━━━━━\u001b[0m\u001b[37m\u001b[0m \u001b[1m0s\u001b[0m 1ms/step - attrition_output_accuracy: 0.8308 - department_output_accuracy: 0.6739 - loss: 1.1655 - val_attrition_output_accuracy: 0.8235 - val_department_output_accuracy: 0.6606 - val_loss: 1.1786\n",
            "Epoch 39/50\n",
            "\u001b[1m28/28\u001b[0m \u001b[32m━━━━━━━━━━━━━━━━━━━━\u001b[0m\u001b[37m\u001b[0m \u001b[1m0s\u001b[0m 1ms/step - attrition_output_accuracy: 0.8558 - department_output_accuracy: 0.6640 - loss: 1.1037 - val_attrition_output_accuracy: 0.8190 - val_department_output_accuracy: 0.6606 - val_loss: 1.1785\n",
            "Epoch 40/50\n",
            "\u001b[1m28/28\u001b[0m \u001b[32m━━━━━━━━━━━━━━━━━━━━\u001b[0m\u001b[37m\u001b[0m \u001b[1m0s\u001b[0m 1ms/step - attrition_output_accuracy: 0.8594 - department_output_accuracy: 0.6526 - loss: 1.1442 - val_attrition_output_accuracy: 0.8145 - val_department_output_accuracy: 0.6606 - val_loss: 1.1767\n",
            "Epoch 41/50\n",
            "\u001b[1m28/28\u001b[0m \u001b[32m━━━━━━━━━━━━━━━━━━━━\u001b[0m\u001b[37m\u001b[0m \u001b[1m0s\u001b[0m 916us/step - attrition_output_accuracy: 0.8452 - department_output_accuracy: 0.6733 - loss: 1.1425 - val_attrition_output_accuracy: 0.8190 - val_department_output_accuracy: 0.6606 - val_loss: 1.1783\n",
            "Epoch 42/50\n",
            "\u001b[1m28/28\u001b[0m \u001b[32m━━━━━━━━━━━━━━━━━━━━\u001b[0m\u001b[37m\u001b[0m \u001b[1m0s\u001b[0m 969us/step - attrition_output_accuracy: 0.8474 - department_output_accuracy: 0.6681 - loss: 1.1094 - val_attrition_output_accuracy: 0.8145 - val_department_output_accuracy: 0.6606 - val_loss: 1.1782\n",
            "Epoch 43/50\n",
            "\u001b[1m28/28\u001b[0m \u001b[32m━━━━━━━━━━━━━━━━━━━━\u001b[0m\u001b[37m\u001b[0m \u001b[1m0s\u001b[0m 1ms/step - attrition_output_accuracy: 0.8488 - department_output_accuracy: 0.6857 - loss: 1.0984 - val_attrition_output_accuracy: 0.8190 - val_department_output_accuracy: 0.6606 - val_loss: 1.1790\n",
            "Epoch 44/50\n",
            "\u001b[1m28/28\u001b[0m \u001b[32m━━━━━━━━━━━━━━━━━━━━\u001b[0m\u001b[37m\u001b[0m \u001b[1m0s\u001b[0m 1ms/step - attrition_output_accuracy: 0.8509 - department_output_accuracy: 0.6573 - loss: 1.1485 - val_attrition_output_accuracy: 0.8190 - val_department_output_accuracy: 0.6606 - val_loss: 1.1771\n",
            "Epoch 45/50\n",
            "\u001b[1m28/28\u001b[0m \u001b[32m━━━━━━━━━━━━━━━━━━━━\u001b[0m\u001b[37m\u001b[0m \u001b[1m0s\u001b[0m 1ms/step - attrition_output_accuracy: 0.8415 - department_output_accuracy: 0.6651 - loss: 1.1108 - val_attrition_output_accuracy: 0.8190 - val_department_output_accuracy: 0.6606 - val_loss: 1.1779\n",
            "Epoch 46/50\n",
            "\u001b[1m28/28\u001b[0m \u001b[32m━━━━━━━━━━━━━━━━━━━━\u001b[0m\u001b[37m\u001b[0m \u001b[1m0s\u001b[0m 2ms/step - attrition_output_accuracy: 0.8482 - department_output_accuracy: 0.6746 - loss: 1.1374 - val_attrition_output_accuracy: 0.8190 - val_department_output_accuracy: 0.6606 - val_loss: 1.1784\n",
            "Epoch 47/50\n",
            "\u001b[1m28/28\u001b[0m \u001b[32m━━━━━━━━━━━━━━━━━━━━\u001b[0m\u001b[37m\u001b[0m \u001b[1m0s\u001b[0m 957us/step - attrition_output_accuracy: 0.8585 - department_output_accuracy: 0.6703 - loss: 1.1105 - val_attrition_output_accuracy: 0.8190 - val_department_output_accuracy: 0.6606 - val_loss: 1.1773\n",
            "Epoch 48/50\n",
            "\u001b[1m28/28\u001b[0m \u001b[32m━━━━━━━━━━━━━━━━━━━━\u001b[0m\u001b[37m\u001b[0m \u001b[1m0s\u001b[0m 860us/step - attrition_output_accuracy: 0.8472 - department_output_accuracy: 0.6991 - loss: 1.0832 - val_attrition_output_accuracy: 0.8145 - val_department_output_accuracy: 0.6516 - val_loss: 1.1783\n",
            "Epoch 49/50\n",
            "\u001b[1m28/28\u001b[0m \u001b[32m━━━━━━━━━━━━━━━━━━━━\u001b[0m\u001b[37m\u001b[0m \u001b[1m0s\u001b[0m 915us/step - attrition_output_accuracy: 0.8548 - department_output_accuracy: 0.6790 - loss: 1.0579 - val_attrition_output_accuracy: 0.8190 - val_department_output_accuracy: 0.6471 - val_loss: 1.1775\n",
            "Epoch 50/50\n",
            "\u001b[1m28/28\u001b[0m \u001b[32m━━━━━━━━━━━━━━━━━━━━\u001b[0m\u001b[37m\u001b[0m \u001b[1m0s\u001b[0m 844us/step - attrition_output_accuracy: 0.8410 - department_output_accuracy: 0.6872 - loss: 1.1194 - val_attrition_output_accuracy: 0.8100 - val_department_output_accuracy: 0.6425 - val_loss: 1.1791\n"
          ]
        }
      ],
      "source": [
        "# Train the model\n",
        "history = model.fit(X_train_scaled, \n",
        "                    {'department_output': y_train_department, 'attrition_output': y_train_attrition}, \n",
        "                    epochs=50, \n",
        "                    batch_size=32, \n",
        "                    validation_split=0.2)\n"
      ]
    },
    {
      "cell_type": "code",
      "execution_count": 29,
      "metadata": {
        "colab": {
          "base_uri": "https://localhost:8080/"
        },
        "id": "VsMoaQlgGc3U",
        "outputId": "1bd4e601-e964-4abc-ad83-aeecf6b696be"
      },
      "outputs": [],
      "source": [
        "# Evaluate the model with the testing data\n"
      ]
    },
    {
      "cell_type": "code",
      "execution_count": 30,
      "metadata": {
        "colab": {
          "base_uri": "https://localhost:8080/"
        },
        "id": "ZlCtlHi0Vt54",
        "outputId": "bc21ef3e-80c2-4b38-9c29-79515bc23dec"
      },
      "outputs": [],
      "source": [
        "# Print the accuracy for both department and attrition\n"
      ]
    },
    {
      "cell_type": "markdown",
      "metadata": {
        "id": "eGSyfsZfWOQM"
      },
      "source": [
        "# Summary\n",
        "\n",
        "In the provided space below, briefly answer the following questions.\n",
        "\n",
        "1. Is accuracy the best metric to use on this data? Why or why not?\n",
        "\n",
        "2. What activation functions did you choose for your output layers, and why?\n",
        "\n",
        "3. Can you name a few ways that this model might be improved?"
      ]
    },
    {
      "cell_type": "markdown",
      "metadata": {
        "id": "pi9SLpFnWvbF"
      },
      "source": [
        "YOUR ANSWERS HERE\n",
        "\n",
        "1. \n",
        "2. \n",
        "3. "
      ]
    },
    {
      "cell_type": "markdown",
      "metadata": {},
      "source": []
    }
  ],
  "metadata": {
    "colab": {
      "provenance": []
    },
    "kernelspec": {
      "display_name": "Python 3",
      "language": "python",
      "name": "python3"
    },
    "language_info": {
      "codemirror_mode": {
        "name": "ipython",
        "version": 3
      },
      "file_extension": ".py",
      "mimetype": "text/x-python",
      "name": "python",
      "nbconvert_exporter": "python",
      "pygments_lexer": "ipython3",
      "version": "3.11.8"
    },
    "vscode": {
      "interpreter": {
        "hash": "31f2aee4e71d21fbe5cf8b01ff0e069b9275f58929596ceb00d14d90e3e16cd6"
      }
    }
  },
  "nbformat": 4,
  "nbformat_minor": 0
}
